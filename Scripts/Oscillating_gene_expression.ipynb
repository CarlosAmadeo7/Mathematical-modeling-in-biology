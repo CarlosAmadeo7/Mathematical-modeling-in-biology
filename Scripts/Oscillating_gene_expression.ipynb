{
 "cells": [
  {
   "cell_type": "markdown",
   "id": "d5819fb0-7cb2-44e8-9fed-c3874191dfc1",
   "metadata": {},
   "source": [
    "## Negative feedback oscillation modeling through a system of ODEs"
   ]
  },
  {
   "cell_type": "markdown",
   "id": "53561df5-b81d-4e52-bf54-6703f13b48c8",
   "metadata": {},
   "source": [
    "The demonstration in recent years of negative feedback control processes operating at the molecular level in cells leads naturally to a study of their dynamic properties. It is known that those mechanism are really likely to produce oscillations, and that is why it is suggested that spontaneous oscillatory behavior in an organism's control processes constitutes the dynamic basis of rhythmic behavior patterns. \n",
    "This hypothesis has been well studied in previous years. Indeed, Goodwin et al,(1965) shown this approach during enzymatic control processes. \n",
    "1. In here, we are trying to demonstrate this hypothesis of dynamic oscillations through a mathematical representation of a negative feedback loop gene expresison, taking into consideration Goodwin's model. \n",
    "2. For more information about read the paper: https://www.sciencedirect.com/science/article/pii/0065257165900671"
   ]
  },
  {
   "cell_type": "markdown",
   "id": "72c6257b-9a7a-45bb-ba92-2845169208d5",
   "metadata": {},
   "source": [
    "In a nutshel, a system of ODEs is modeling the behavior of the expresison of three genes when gene 1 can activate gene 2, and then, gene 2 can activate gene 3, however, gene 3 will act as repressor of gene 1.\n",
    "More information about negative feedback can be found here: https://swainlab.bio.ed.ac.uk/psb/lectures/negative.pdf"
   ]
  },
  {
   "attachments": {
    "7285138f-c595-4e61-9afd-20603c58ebe0.png": {
     "image/png": "[encoded data removed]"
    }
   },
   "cell_type": "markdown",
   "id": "29ea3057-6d02-4608-9be7-b9cc4b216ba8",
   "metadata": {},
   "source": [
    "The ODEs system is as follows:\n",
    "\n",
    "![image.png](attachment:7285138f-c595-4e61-9afd-20603c58ebe0.png)"
   ]
  },
  {
   "attachments": {},
   "cell_type": "markdown",
   "id": "b03eb5a1-b3f2-4de5-9ea2-b3e2eb8ffb77",
   "metadata": {},
   "source": [
    "Where:\n",
    "* 𝑚 = mRNA\n",
    "* G1, G2, G3 = genes\n",
    "* 𝑘1, 𝑘2, 𝑘3 =  production rate of each specific gene\n",
    "* 𝛾1, 𝛾2, 𝛾3 = degradation rate of each specific gene\n"
   ]
  },
  {
   "cell_type": "markdown",
   "id": "87879a34-818d-411f-8a15-630962bc2b02",
   "metadata": {},
   "source": [
    "## Loading Libraries"
   ]
  },
  {
   "cell_type": "code",
   "execution_count": null,
   "id": "246aacda-92ba-4ed6-91ab-5f3332633878",
   "metadata": {},
   "outputs": [],
   "source": [
    "import pandas as pd\n",
    "import numpy as np\n",
    "import matplotlib.pyplot as plt \n",
    "#matplotlib.use\n",
    "from scipy.integrate import odeint"
   ]
  },
  {
   "cell_type": "markdown",
   "id": "1cfe15fb-684e-4b2a-b50f-41b9f4c79cde",
   "metadata": {},
   "source": [
    "### Solving the system of ODEs"
   ]
  },
  {
   "cell_type": "code",
   "execution_count": null,
   "id": "1e492577-479e-4051-ad09-2993fc1714c1",
   "metadata": {},
   "outputs": [],
   "source": [
    "y0 = [0,0,0] # the first vector is the gene1, second vector gene2, third vector is gene 3. Initial conditions\n",
    "t = np.linspace(0,200, num=100)  # time steps \n",
    "\n",
    "#Parameters\n",
    "\"\"\" These are the set of parameters dominating the output of the ODE system \"\"\"\n",
    "k_1 =  0.5  # Productiom rate of gene 1\n",
    "gamma_1 = 0.1   # Degradation rate of gene 1\n",
    "k_2 = 0.5   # Productiom rate of gene 2\n",
    "gamma_2 = 0.1   # Degradation rate of gene 2\n",
    "k_3 = 0.5   # Productiom rate of gene 3\n",
    "gamma_3 = 0.1  # Degradation rate of gene 3\n",
    "n = 9\n",
    "c = 1\n",
    "\n",
    "parameters = [k_1, gamma_1 ,k_2, gamma_2, k_3 , gamma_3, n, c]  # setting the parameters in a single array \n",
    "\n",
    "# Defining master function \n",
    "def simulation (variables, t, parameters):\n",
    "    # Variables\n",
    "    G1= variables[0]   # Initial conditions\n",
    "    G2= variables[1]   # Initial conditions\n",
    "    G3= variables[2]   # Initial conditions\n",
    "\n",
    "    # Parameters\n",
    "    k_1 = parameters[0]\n",
    "    gamma_1  = parameters[1]\n",
    "    k_2 = parameters[2]\n",
    "    gamma_2 = parameters[3]\n",
    "    k_3 = parameters[4]\n",
    "    gamma_3=parameters[5]\n",
    "    n= parameters[6]\n",
    "    c= parameters[7]\n",
    "    \n",
    "    # ODEs\n",
    "    dG1dt = (c**n/(c**n + G3**n))* k_1 - gamma_1*G1\n",
    "    dG2dt = (G1**n/(c**n + G1**n))* k_2 - gamma_2*G2\n",
    "    dG3dt = (G2**n/(c**n + G2**n))* k_3 - gamma_3*G3\n",
    "    \n",
    "    return ([dG1dt,dG2dt,dG3dt])\n",
    "\n",
    "# Solving the ODEs\n",
    "y = odeint(simulation, y0, t, args=(parameters,)) # Simulation, initial conditions, time steps, Extra arguments to pass"
   ]
  },
  {
   "cell_type": "code",
   "execution_count": null,
   "id": "4978b0a7-1fe5-4d06-ba24-2a873c1c2f62",
   "metadata": {},
   "outputs": [],
   "source": [
    "print(y) # y contains three vectors: gene1, gene2, gene3"
   ]
  },
  {
   "cell_type": "markdown",
   "id": "48108a11-3cb7-473f-823a-56c3b38331c9",
   "metadata": {},
   "source": [
    "## Plotting "
   ]
  },
  {
   "cell_type": "code",
   "execution_count": null,
   "id": "aa23aa55-16ca-4ace-911d-d8d6ce594950",
   "metadata": {},
   "outputs": [],
   "source": [
    "f, (ax1,ax2,ax3) = plt.subplots(3, sharex=True, sharey = False)\n",
    "line1, = ax1.plot(t,y[:,0],color = \"black\", label = \" G1 \")\n",
    "line2, = ax2.plot(t,y[:,1],color = \"blue\",label = \" G2\")\n",
    "line3, = ax3.plot(t,y[:,2],color = \"green\",label = \" G3\")\n",
    "\n",
    "ax1.set_ylabel(\"Number\")\n",
    "ax1.set_xlabel(\"time\")\n",
    "\n",
    "#plt.title (\" mRNA and protein abundance over time \")\n",
    "ax1.legend(handles=[line1, line2, line3])\n",
    "plt.show()"
   ]
  },
  {
   "cell_type": "markdown",
   "id": "b5f97dc9-06b0-4eaa-b0f8-83d255144ab6",
   "metadata": {},
   "source": [
    "We observe the oscillations, mentioned by Goodwin, by modeling the activation cascade with negative feedback"
   ]
  },
  {
   "cell_type": "code",
   "execution_count": null,
   "id": "e8e0b25e-5d71-475c-977a-5dfda873a221",
   "metadata": {},
   "outputs": [],
   "source": []
  }
 ],
 "metadata": {
  "kernelspec": {
   "display_name": "Python 3 (ipykernel)",
   "language": "python",
   "name": "python3"
  },
  "language_info": {
   "codemirror_mode": {
    "name": "ipython",
    "version": 3
   },
   "file_extension": ".py",
   "mimetype": "text/x-python",
   "name": "python",
   "nbconvert_exporter": "python",
   "pygments_lexer": "ipython3",
   "version": "3.11.7"
  }
 },
 "nbformat": 4,
 "nbformat_minor": 5
}
