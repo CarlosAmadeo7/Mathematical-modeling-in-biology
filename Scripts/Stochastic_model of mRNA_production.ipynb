{
 "cells": [
  {
   "cell_type": "markdown",
   "id": "7ea470a6-9e50-4e0b-9d9a-4da649cd7738",
   "metadata": {},
   "source": [
    "# Simple stochastic model of mRNA production following a SSA implementation"
   ]
  },
  {
   "attachments": {},
   "cell_type": "markdown",
   "id": "54dbdfab-d0c6-4803-a714-fb287645ff38",
   "metadata": {},
   "source": [
    "The Gillespie algorithm, also known as the Stochastic Simulation Algorithm (SSA), is a computational method used to simulate the time evolution of a system with discrete events that occur randomly in time. It is widely used in systems biology to model stochastic processes where the timing of events is important.\n",
    "\n",
    "In this model we are simulating the creation of mRNA from a specific gene over time in a random way.\n",
    "Basically, a gene will create a mRNA with a production rate 𝑘 and degradation rate 𝛾𝑚, being m the amount of mRNA present at specific random time.\n",
    "The production of mRNA from a gene can be simulated using a ODEs system as you see bellow, however, it will give us a deterministic output\n"
   ]
  },
  {
   "attachments": {
    "e4b0710c-3445-4eb5-9677-8292287228b5.png": {
     "image/png": "[encoded data removed]"
    }
   },
   "cell_type": "markdown",
   "id": "01738da0-a7ee-4eb4-9f06-d774513f2a2f",
   "metadata": {},
   "source": [
    "![image.png](attachment:e4b0710c-3445-4eb5-9677-8292287228b5.png)"
   ]
  },
  {
   "cell_type": "markdown",
   "id": "a3ed05cb-ab4d-4d89-a5fa-567f356fadf8",
   "metadata": {},
   "source": [
    "We address the problem by simplificatin of the production and degradation of mRNA over time such as :"
   ]
  },
  {
   "attachments": {
    "94ca8e8d-1bba-42a1-9d2c-8eafe06af114.png": {
     "image/png": "[encoded data removed]"
    }
   },
   "cell_type": "markdown",
   "id": "30a376d1-3382-4611-b5c6-a6f8e2c277fc",
   "metadata": {},
   "source": [
    "![image.png](attachment:94ca8e8d-1bba-42a1-9d2c-8eafe06af114.png)\n",
    "\n",
    "\n",
    "where x represents mRNA, 𝑘 is represented as x + 1, since we are creating mRNA, and 𝛾𝑚 is represented as x-1, because mRNA is being degraded."
   ]
  },
  {
   "cell_type": "markdown",
   "id": "1adb9905-529c-4742-ad99-79c8b0ff91da",
   "metadata": {},
   "source": [
    "In this simple computational implementation we simulate this biologcial process following key concepts:\n",
    "\n",
    "* Reaction Rates: The algorithm uses reaction rates to determine the likelihood of each possible event (e.g., chemical reactions, gene expression) occurring in the system.\n",
    "* Stochasticity: It accounts for the inherent randomness in the timing of events, making it suitable for systems with small populations where discrete fluctuations are significant.\n",
    "* Event Selection: At each step, the algorithm randomly selects the time until the next event and which event occurs based on the reaction rates."
   ]
  },
  {
   "cell_type": "markdown",
   "id": "d6456745-91f9-491d-b3c0-044aac20ac2d",
   "metadata": {},
   "source": [
    "## Importing libraries"
   ]
  },
  {
   "cell_type": "code",
   "execution_count": null,
   "id": "42f80025-66c1-4059-a827-f14e4e40c185",
   "metadata": {},
   "outputs": [],
   "source": [
    "import pandas as pd\n",
    "import numpy as np\n",
    "import matplotlib.pyplot as plt \n",
    "import random "
   ]
  },
  {
   "cell_type": "markdown",
   "id": "2199a64b-10bb-49ab-aebd-c75ed3b67446",
   "metadata": {},
   "source": [
    "### Single simulation of a mRNA production"
   ]
  },
  {
   "cell_type": "code",
   "execution_count": null,
   "id": "c9f56d3d-3080-4542-b8e4-59e49e6e0c3d",
   "metadata": {},
   "outputs": [],
   "source": [
    "# Initial conditions\n",
    "x=[0]   # Initializes the list x to store mRNA quantities, starting with 0.\n",
    "t=[0]   # Initializes the list t to store time steps, starting at time 0.\n",
    "\n",
    "\n",
    "# Simulation parameters\n",
    "tend = 2000    # Sets the simulation end time to x time steps.\n",
    "k= 2           # Sets the production rate constant.\n",
    "gamma=0.1      # Sets the degradation rate constant.\n",
    "\n",
    "\n",
    "# Simulation \n",
    "while t[-1] < tend:\n",
    "    current_x= x[-1]   #Retrieves the current mRNA quantity.\n",
    "    # Temporary variable \n",
    "    rates=[k,gamma*current_x]   # Calculates the production and degradation rates.\n",
    "    rate_sum = sum(rates)       # Sums the rates to get the total rate.\n",
    "    \n",
    "    \n",
    "    # Determine time step (tau) using exponential distribution \n",
    "    tau = np.random.exponential(scale = 1/rate_sum)   #Determines the time step for the next event using an exponential distribution.\n",
    "    t.append(t[-1] + tau )  # Updates the time list with the new time step.\n",
    "\n",
    "    # Determine which reaction occurs\n",
    "    rand= random.uniform(0,1)\n",
    "    \n",
    "    \n",
    "    #Production event \n",
    "    if rand * rate_sum > 0 and rand * rate_sum<rates[0]:   # If the random number falls within the range for production, it increases the mRNA quantity by 1.\n",
    "        x.append(x[-1]+1)\n",
    "    elif rand * rate_sum > rates[0] and rand * rate_sum<rates[0] + rates[1]:\n",
    "        x.append(x[-1]-1)\n",
    "\n",
    "\n",
    "# Plotting\n",
    "plt.figure(figsize=(10,5))\n",
    "plt.plot(t,x,color=\"mediumblue\")\n",
    "plt.xlabel(\"time-step\",size=14)\n",
    "plt.ylabel(\"mRNA quantity\",size=14)\n",
    "plt.grid()\n",
    "plt.show()\n",
    "    \n",
    "    "
   ]
  },
  {
   "cell_type": "markdown",
   "id": "7713f4cd-b5a1-4c69-b058-8837d3009061",
   "metadata": {},
   "source": [
    "### Multiple simulation to determine the average of mRNA production over time "
   ]
  },
  {
   "cell_type": "code",
   "execution_count": null,
   "id": "a0c734f3-e667-4003-9949-adcd578f4491",
   "metadata": {},
   "outputs": [],
   "source": [
    "import numpy as np\n",
    "import random\n",
    "import matplotlib.pyplot as plt\n",
    "\n",
    "# Function to perform a single simulation of mRNA production and degradation\n",
    "def g_simulation(tend, k, gamma):\n",
    "    x = [0]\n",
    "    t = [0]\n",
    "\n",
    "    while t[-1] < tend:\n",
    "        current_x = x[-1]\n",
    "        rates = [k, gamma * current_x]\n",
    "        rate_sum = sum(rates)\n",
    "        tau = np.random.exponential(scale=1 / rate_sum)\n",
    "        t.append(t[-1] + tau)\n",
    "        rand = random.uniform(0, 1)\n",
    "\n",
    "        if rand * rate_sum > 0 and rand * rate_sum < rates[0]:\n",
    "            x.append(x[-1] + 1)\n",
    "        elif rand * rate_sum > rates[0] and rand * rate_sum < rates[0] + rates[1]:\n",
    "            x.append(x[-1] - 1)\n",
    "\n",
    "    return t, x\n",
    "\n",
    "# Parameters\n",
    "tend = 2000\n",
    "k = 2\n",
    "gamma = 0.1\n",
    "num_simulations = 30\n",
    "\n",
    "\n",
    "# Run multiple simulations\n",
    "simulations = []\n",
    "for _ in range(num_simulations):\n",
    "    t, x = g_simulation(tend, k, gamma)\n",
    "    simulations.append((t, x))\n",
    "\n",
    "# Determine common time points for simple statistics\n",
    "common_times = np.linspace(0, tend, 1000)   # Determining the range of time-steps\n",
    "quantities = np.zeros((num_simulations, len(common_times)))\n",
    "\n",
    "# Simulation for time points \n",
    "for i, (t, x) in enumerate(simulations):\n",
    "    interpolated_x = np.interp(common_times, t, x)\n",
    "    quantities[i, :] = interpolated_x\n",
    "\n",
    "# Calculate mean and standard deviation\n",
    "mean = np.mean(quantities, axis=0)\n",
    "std = np.std(quantities, axis=0)\n",
    "\n",
    "# Plot individual simulations\n",
    "plt.figure(figsize=(10, 5))\n",
    "for t, x in simulations:\n",
    "    plt.plot(t, x, color=\"mediumblue\", alpha=0.3)\n",
    "\n",
    "# Plot mean mRNA quantity with error bars\n",
    "plt.plot(common_times, mean, color=\"black\", label=\"Mean mRNA Quantity\")\n",
    "plt.fill_between(common_times, mean - std, mean + std, color=\"black\", alpha=0.2, label=\"Noise\")\n",
    "\n",
    "# Labels and title\n",
    "plt.xlabel(\"Time-step\",size=14)\n",
    "plt.ylabel(\"mRNA Quantity\",size=14)\n",
    "plt.title(\"Stochasticity of mRNA Production and Degradation\",size=16)\n",
    "plt.legend()\n",
    "plt.grid()\n",
    "plt.show()"
   ]
  },
  {
   "cell_type": "code",
   "execution_count": null,
   "id": "c3f74d5c-e1d8-424a-b899-050333129f9a",
   "metadata": {},
   "outputs": [],
   "source": []
  }
 ],
 "metadata": {
  "kernelspec": {
   "display_name": "Python 3 (ipykernel)",
   "language": "python",
   "name": "python3"
  },
  "language_info": {
   "codemirror_mode": {
    "name": "ipython",
    "version": 3
   },
   "file_extension": ".py",
   "mimetype": "text/x-python",
   "name": "python",
   "nbconvert_exporter": "python",
   "pygments_lexer": "ipython3",
   "version": "3.11.7"
  }
 },
 "nbformat": 4,
 "nbformat_minor": 5
}
